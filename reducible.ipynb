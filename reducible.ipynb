{
 "cells": [
  {
   "cell_type": "code",
   "execution_count": 1,
   "metadata": {},
   "outputs": [],
   "source": [
    "import numpy as np\n",
    "import itertools\n",
    "import galois\n",
    "from tqdm import *\n",
    "# from sympy import Matrix\n",
    "# from scipy.special import comb, perm"
   ]
  },
  {
   "cell_type": "code",
   "execution_count": 2,
   "metadata": {},
   "outputs": [],
   "source": [
    "class inversion:\n",
    "    def __init__(self) -> None:\n",
    "        self.GF = galois.GF(2) # Galois field F_2\n",
    "        self.v3_mat = self.enum_vector(3) # a 3 x (2**3) matrix, the columns enumerate all binary vectos in F_2^{3}. Especially, the first column is all zero vector.\n",
    "        self.dot_result = np.matmul(self.v3_mat.T, self.v3_mat) # dot_result[i, j] = np.dot( self.v3_mat[:, i], self.v3_mat[:, j]), save the result of vectors' inner product to save time\n",
    "        self.FourTuple = self.gen_Tuple(4) # Choose 4 elements from candidate vectors\n",
    "        self.TwoTuple = self.gen_Tuple(2) # Choose 2 elements from candidate vectors\n",
    "        self.TwoTuple_nozero = self.gen_Tuple(2, nozero=True) # Choose 4 elements from candidate vectors without zero vector\n",
    "\n",
    "    def enum_vector(self, k):\n",
    "        if k == 1:\n",
    "            return self.GF([[0,1]])\n",
    "        else:\n",
    "            L = self.enum_vector(k-1)\n",
    "            LL = np.vstack((self.GF(np.zeros((1, L.shape[1]), dtype=np.int8)), L))\n",
    "            RR = np.vstack((self.GF(np.ones((1, L.shape[1]), dtype=np.int8)), L))\n",
    "            return np.hstack((LL, RR))\n",
    "        \n",
    "    def gen_Tuple(self, length, nozero=False):\n",
    "        return [ np.array(p) for p in itertools.combinations(range((1 if nozero else 0), self.v3_mat.shape[1]), length)]\n",
    "        \n",
    "    \n",
    "    def reducible(self, Boundary_sets, nH, edges_H, edges_HB, label_H, label_HB):\n",
    "        for vH_idx in itertools.product(range(1, self.v3_mat.shape[1]), repeat=nH):\n",
    "            if not np.all([ self.dot_result[ vH_idx[e[0]], vH_idx[e[1]]] == label_H[e_idx]  for e_idx, e in enumerate(edges_H) ]):\n",
    "                continue\n",
    "\n",
    "            for boundary_v_idx in itertools.product( *tuple([ range(len(B)) for B in Boundary_sets]) ):\n",
    "                if np.all( [ self.dot_result[ vH_idx[e[0]], Boundary_sets[e[1]][boundary_v_idx[e[1]]] ] == label_HB[edge_idx] for edge_idx, e in enumerate(edges_HB)] ):\n",
    "                    return True\n",
    "        return False\n",
    "    \n",
    "    def reduce_K4_minus(self):\n",
    "        total = 2**5\n",
    "        for label in tqdm(itertools.product(range(2), repeat=5), total=total):\n",
    "            label = self.GF(np.array(list(label)))\n",
    "            if np.all(label[[0,1,2]] == 0):\n",
    "                continue\n",
    "            if np.all(label[[0,3,4]] == 0):\n",
    "                continue\n",
    "            for boundary_sets_idx in itertools.product(range(len(self.FourTuple)), repeat=2):\n",
    "                if np.any( self.FourTuple[boundary_sets_idx[0]] == 0 ) and label[1] == 0 and label[3] == 0:\n",
    "                    continue\n",
    "                if np.any( self.FourTuple[boundary_sets_idx[1]] == 0 ) and label[2] == 0 and label[4] == 0:\n",
    "                    continue\n",
    "                if not self.reducible([ self.FourTuple[i] for i in boundary_sets_idx], 2, [(0,1)], [(0,0), (0,1), (1,0), (1,1)], label[[0]], label[1:]):\n",
    "                    print('\\nFail')\n",
    "                    return False\n",
    "        print('\\nSucceed')\n",
    "        return True\n",
    "    \n",
    "    def reduce_triangle(self):\n",
    "        total = 2**3\n",
    "        for inner_label in tqdm(itertools.product(range(2), repeat=3), total=total):\n",
    "            inner_label = self.GF(np.array(list(inner_label)))\n",
    "            for outer_label in itertools.product(range(2), repeat=3):\n",
    "                outer_label = self.GF(np.array(list(outer_label)))\n",
    "                if np.any(np.array( [ outer_label[i] == 0 and inner_label[i] == 0 and inner_label[(i-1)%3] == 0 for i in range(3)] )):\n",
    "                    # inner vertices with all labeled zero edges\n",
    "                    continue\n",
    "                for u2_idx in itertools.product(range(1, self.v3_mat.shape[1]), repeat=2):\n",
    "                    for B3_idx in range(len(self.TwoTuple)):\n",
    "                        if u2_idx[0] == u2_idx[1] and np.all(self.TwoTuple[B3_idx] != u2_idx[0]):\n",
    "                            continue\n",
    "                        if np.any(self.TwoTuple[B3_idx] == 0) and outer_label[2] == 0:\n",
    "                            continue\n",
    "\n",
    "                        if not self.reducible([[i] for i in u2_idx] + [self.TwoTuple[B3_idx]], 3, [(0,1), (1,2), (2,0)], [(0,0), (1,1), (2,2)], inner_label, outer_label):\n",
    "                            print('\\nFail')\n",
    "                            return False\n",
    "        print('\\nSucceed')\n",
    "        return True\n",
    "\n",
    "    def reduce_P3(self):\n",
    "        labels = [self.GF(np.array([1,0,0], dtype=int)), self.GF(np.array([1,1,0], dtype=int)), self.GF(np.array([1,1,1], dtype=int))] \n",
    "        for label_idx in range(3):\n",
    "            label = labels[label_idx]\n",
    "            total = len(self.TwoTuple) ** 3\n",
    "            for boundary_sets_idx in tqdm(itertools.product(range(len(self.TwoTuple)), repeat = 3), total=total):\n",
    "                if np.any(self.TwoTuple[boundary_sets_idx[0]] == 0):\n",
    "                    continue \n",
    "                \n",
    "                if  np.any(np.array([label[i] == 0 and np.any(self.TwoTuple[boundary_sets_idx[i]] == 0) for i in range(1,3) ])):\n",
    "                    continue\n",
    "                \n",
    "                if not self.reducible([self.TwoTuple[i] for i in boundary_sets_idx], 1, [], [(0,0), (0,1), (0,2)], [], label):\n",
    "                    print('\\nFail')\n",
    "                    return False\n",
    "        print('\\nSucceed')\n",
    "        return True\n",
    "    \n",
    "    def reducible_K23_speedup(self, boundary_sets):\n",
    "        for boundary_v_idx in itertools.product( *tuple([ range(len(B)) for B in boundary_sets]) ):\n",
    "            v0_found = False\n",
    "            v1_found = False\n",
    "            for v0_idx in range(1, self.v3_mat.shape[1]):\n",
    "                if np.all([ self.dot_result[ v0_idx, boundary_sets[i][boundary_v_idx[i]] ] == (1 if i == 0 else 0)  for i in range(3)]):\n",
    "                    v0_found = True\n",
    "                    break\n",
    "            if not v0_found:\n",
    "                continue\n",
    "\n",
    "            for v1_idx in range(1, self.v3_mat.shape[1]):\n",
    "                if np.all([ self.dot_result[ v1_idx, boundary_sets[i][boundary_v_idx[i]] ] == (1 if i == 2 else 0)  for i in range(3)]):\n",
    "                    v1_found = True\n",
    "                    break\n",
    "            if v1_found:\n",
    "                return True\n",
    "        return False\n",
    "\n",
    "    def reduce_K23(self):\n",
    "        total = (len(self.FourTuple))**3\n",
    "        for boundary_sets_idx in tqdm(itertools.product(range(len(self.FourTuple)), repeat=3), total=total):\n",
    "            if not np.any(self.FourTuple[boundary_sets_idx[0]] == 0):\n",
    "                continue \n",
    "            if np.any(self.FourTuple[boundary_sets_idx[1]] == 0):\n",
    "                continue \n",
    "            if not np.any(self.FourTuple[boundary_sets_idx[2]] == 0):\n",
    "                continue \n",
    "            if not self.reducible_K23_speedup([self.FourTuple[i] for i in boundary_sets_idx]):\n",
    "                print('\\nFail')\n",
    "                return False\n",
    "        print('\\nSucceed')\n",
    "        return True\n",
    "    \n",
    "    def reduce_C4_Type1(self):\n",
    "        inner_label = self.GF(np.array([1,0,0,0]))\n",
    "        outer_label = self.GF(np.array([0,0,1,1]))\n",
    "        total = (self.v3_mat.shape[1])**4\n",
    "        for boundary_set_idx in tqdm(itertools.product(range(1,self.v3_mat.shape[1]), repeat=4), total=total):\n",
    "            if not self.reducible([[i] for i in boundary_set_idx], 4, [(0,1), (1,2), (2,3), (3,0)], [(0,0), (1,1), (2,2), (3,3)], inner_label, outer_label):\n",
    "                print('\\nFail')\n",
    "                return False\n",
    "        print('\\nSucceed')\n",
    "        return True\n",
    "    \n",
    "    def reduce_C4_Type1(self):\n",
    "        inner_label = self.GF(np.array([1,0,0,0]))\n",
    "        outer_label = self.GF(np.array([0,0,1,1]))\n",
    "        total = (self.v3_mat.shape[1]-1)**4\n",
    "        for boundary_set_idx in tqdm(itertools.product(range(1,self.v3_mat.shape[1]), repeat=4), total=total):\n",
    "            if not self.reducible([[i] for i in boundary_set_idx], 4, [(0,1), (1,2), (2,3), (3,0)], [(0,0), (1,1), (2,2), (3,3)], inner_label, outer_label):\n",
    "                print('\\nFail')\n",
    "                return False\n",
    "        print('\\nSucceed')\n",
    "        return True\n",
    "    \n",
    "    def no_two_equal_pairs(self, idx):\n",
    "        if idx[0] == idx[1] and idx[2] == idx[3]:\n",
    "            return False\n",
    "        if idx[0] == idx[2] and idx[1] == idx[3]:\n",
    "            return False\n",
    "        if idx[0] == idx[3] and idx[2] == idx[1]:\n",
    "            return False\n",
    "        return True\n",
    "        \n",
    "    def reduce_C4_Type2(self):\n",
    "        inner_label = self.GF(np.array([1,0,1,0]))\n",
    "        outer_label = self.GF(np.array([0,0,0,0]))\n",
    "        total = (self.v3_mat.shape[1]-1)**4\n",
    "        for boundary_set_idx in tqdm(itertools.product(range(1,self.v3_mat.shape[1]), repeat=4), total=total):\n",
    "            if not self.no_two_equal_pairs(boundary_set_idx):\n",
    "                continue\n",
    "            if not self.reducible([[i] for i in boundary_set_idx], 4, [(0,1), (1,2), (2,3), (3,0)], [(0,0), (1,1), (2,2), (3,3)], inner_label, outer_label):\n",
    "                print('\\nFail')\n",
    "                return False\n",
    "        print('\\nSucceed')\n",
    "        return True\n",
    "    \n",
    "    def reduce_bridge(self):\n",
    "        total = (len(self.TwoTuple_nozero))**4\n",
    "        for boundary_set_idx in tqdm(itertools.product(range(len(self.TwoTuple_nozero)), repeat=4), total=total):\n",
    "            if not self.reducible([self.TwoTuple_nozero[i] for i in boundary_set_idx], 2, [(0,1)], [(0,0), (0,1), (1,2), (1,3)], self.GF(np.array([1])), self.GF(np.array([0,0,0,0]))):\n",
    "                print('\\nFail')\n",
    "                return False\n",
    "        print('\\nSucceed')\n",
    "        return True"
   ]
  },
  {
   "cell_type": "code",
   "execution_count": 3,
   "metadata": {},
   "outputs": [],
   "source": [
    "inv = inversion()"
   ]
  },
  {
   "cell_type": "code",
   "execution_count": 4,
   "metadata": {},
   "outputs": [
    {
     "name": "stderr",
     "output_type": "stream",
     "text": [
      "100%|██████████| 32/32 [04:19<00:00,  8.09s/it]"
     ]
    },
    {
     "name": "stdout",
     "output_type": "stream",
     "text": [
      "\n",
      "Succeed\n"
     ]
    },
    {
     "name": "stderr",
     "output_type": "stream",
     "text": [
      "\n"
     ]
    },
    {
     "data": {
      "text/plain": [
       "True"
      ]
     },
     "execution_count": 4,
     "metadata": {},
     "output_type": "execute_result"
    }
   ],
   "source": [
    "inv.reduce_K4_minus()"
   ]
  },
  {
   "cell_type": "code",
   "execution_count": 5,
   "metadata": {},
   "outputs": [
    {
     "name": "stderr",
     "output_type": "stream",
     "text": [
      "100%|██████████| 8/8 [04:08<00:00, 31.01s/it]"
     ]
    },
    {
     "name": "stdout",
     "output_type": "stream",
     "text": [
      "\n",
      "Succeed\n"
     ]
    },
    {
     "name": "stderr",
     "output_type": "stream",
     "text": [
      "\n"
     ]
    },
    {
     "data": {
      "text/plain": [
       "True"
      ]
     },
     "execution_count": 5,
     "metadata": {},
     "output_type": "execute_result"
    }
   ],
   "source": [
    "inv.reduce_triangle()"
   ]
  },
  {
   "cell_type": "code",
   "execution_count": 6,
   "metadata": {},
   "outputs": [
    {
     "name": "stderr",
     "output_type": "stream",
     "text": [
      "100%|██████████| 21952/21952 [00:07<00:00, 2858.86it/s]\n",
      "100%|██████████| 21952/21952 [00:09<00:00, 2299.55it/s]\n",
      "100%|██████████| 21952/21952 [00:11<00:00, 1882.16it/s]"
     ]
    },
    {
     "name": "stdout",
     "output_type": "stream",
     "text": [
      "\n",
      "Succeed\n"
     ]
    },
    {
     "name": "stderr",
     "output_type": "stream",
     "text": [
      "\n"
     ]
    },
    {
     "data": {
      "text/plain": [
       "True"
      ]
     },
     "execution_count": 6,
     "metadata": {},
     "output_type": "execute_result"
    }
   ],
   "source": [
    "inv.reduce_P3()"
   ]
  },
  {
   "cell_type": "code",
   "execution_count": 7,
   "metadata": {},
   "outputs": [
    {
     "name": "stderr",
     "output_type": "stream",
     "text": [
      "100%|██████████| 343000/343000 [04:43<00:00, 1211.94it/s]  "
     ]
    },
    {
     "name": "stdout",
     "output_type": "stream",
     "text": [
      "\n",
      "Succeed\n"
     ]
    },
    {
     "name": "stderr",
     "output_type": "stream",
     "text": [
      "\n"
     ]
    },
    {
     "data": {
      "text/plain": [
       "True"
      ]
     },
     "execution_count": 7,
     "metadata": {},
     "output_type": "execute_result"
    }
   ],
   "source": [
    "inv.reduce_K23()"
   ]
  },
  {
   "cell_type": "code",
   "execution_count": 6,
   "metadata": {},
   "outputs": [
    {
     "name": "stderr",
     "output_type": "stream",
     "text": [
      "100%|██████████| 2401/2401 [02:13<00:00, 17.96it/s] "
     ]
    },
    {
     "name": "stdout",
     "output_type": "stream",
     "text": [
      "\n",
      "Succeed\n"
     ]
    },
    {
     "name": "stderr",
     "output_type": "stream",
     "text": [
      "\n"
     ]
    },
    {
     "data": {
      "text/plain": [
       "True"
      ]
     },
     "execution_count": 6,
     "metadata": {},
     "output_type": "execute_result"
    }
   ],
   "source": [
    "inv.reduce_C4_Type1()"
   ]
  },
  {
   "cell_type": "code",
   "execution_count": 7,
   "metadata": {},
   "outputs": [
    {
     "name": "stderr",
     "output_type": "stream",
     "text": [
      "100%|██████████| 2401/2401 [02:05<00:00, 19.15it/s] "
     ]
    },
    {
     "name": "stdout",
     "output_type": "stream",
     "text": [
      "\n",
      "Succeed\n"
     ]
    },
    {
     "name": "stderr",
     "output_type": "stream",
     "text": [
      "\n"
     ]
    },
    {
     "data": {
      "text/plain": [
       "True"
      ]
     },
     "execution_count": 7,
     "metadata": {},
     "output_type": "execute_result"
    }
   ],
   "source": [
    "inv.reduce_C4_Type2()"
   ]
  },
  {
   "cell_type": "code",
   "execution_count": 4,
   "metadata": {},
   "outputs": [
    {
     "name": "stderr",
     "output_type": "stream",
     "text": [
      "100%|██████████| 194481/194481 [19:26<00:00, 166.74it/s]"
     ]
    },
    {
     "name": "stdout",
     "output_type": "stream",
     "text": [
      "\n",
      "Succeed\n"
     ]
    },
    {
     "name": "stderr",
     "output_type": "stream",
     "text": [
      "\n"
     ]
    },
    {
     "data": {
      "text/plain": [
       "True"
      ]
     },
     "execution_count": 4,
     "metadata": {},
     "output_type": "execute_result"
    }
   ],
   "source": [
    "inv.reduce_bridge()"
   ]
  },
  {
   "cell_type": "code",
   "execution_count": null,
   "metadata": {},
   "outputs": [],
   "source": []
  }
 ],
 "metadata": {
  "kernelspec": {
   "display_name": "base",
   "language": "python",
   "name": "python3"
  },
  "language_info": {
   "codemirror_mode": {
    "name": "ipython",
    "version": 3
   },
   "file_extension": ".py",
   "mimetype": "text/x-python",
   "name": "python",
   "nbconvert_exporter": "python",
   "pygments_lexer": "ipython3",
   "version": "3.11.4"
  }
 },
 "nbformat": 4,
 "nbformat_minor": 2
}
