{
 "cells": [
  {
   "cell_type": "code",
   "execution_count": 1,
   "metadata": {},
   "outputs": [],
   "source": [
    "import numpy as np\n",
    "import itertools\n",
    "import galois\n",
    "from sympy import Matrix\n",
    "from scipy.special import comb, perm\n",
    "from tqdm import *"
   ]
  },
  {
   "cell_type": "code",
   "execution_count": 2,
   "metadata": {},
   "outputs": [],
   "source": [
    "def setmask(M, i, j, s):\n",
    "        M[i][j] = M[j][i] = s\n",
    "\n",
    "def graph():\n",
    "    ''' \n",
    "        return: n: number of vertices.\n",
    "                mask: n x n matrix . M[i,j] = -1 means no edge between i and j, M[i,j]=1 means the edge ij is labeled 1, M[i,j]=0 means the edge ij is labeled 0.\n",
    "    '''\n",
    "    n = 12\n",
    "    mask = -np.ones((n,n))\n",
    "    setmask(mask, 0, 1, 1) \n",
    "    setmask(mask, 0, 4, 0) \n",
    "    setmask(mask, 1, 2, 0) \n",
    "    setmask(mask, 1, 4, 0) \n",
    "    setmask(mask, 1, 5, 0) \n",
    "    setmask(mask, 2, 5, 1) \n",
    "    setmask(mask, 3, 4, 1) \n",
    "    setmask(mask, 3, 7, 0) \n",
    "    setmask(mask, 4, 5, 0) \n",
    "    setmask(mask, 4, 7, 0) \n",
    "    setmask(mask, 4, 8, 1) \n",
    "    setmask(mask, 5, 6, 1) \n",
    "    setmask(mask, 5, 8, 0) \n",
    "    setmask(mask, 5, 9, 0) \n",
    "    setmask(mask, 6, 9, 0) \n",
    "    setmask(mask, 7, 8, 1) \n",
    "    setmask(mask, 7, 10, 1) \n",
    "    setmask(mask, 8, 9, 0) \n",
    "    setmask(mask, 8, 10, 0) \n",
    "    setmask(mask, 8, 11, 0) \n",
    "    setmask(mask, 9, 11, 1)\n",
    "    return n, mask\n"
   ]
  },
  {
   "cell_type": "code",
   "execution_count": 3,
   "metadata": {},
   "outputs": [],
   "source": [
    "class Solver():\n",
    "    def __init__(self, n, M, t) -> None:\n",
    "        self.GF = galois.GF(2)\n",
    "        self.n = n  # graph order\n",
    "        self.M = M  # n x n matrix . M[i,j] = -1 means no edge between i and j, M[i,j]=1 means the edge ij is labeled 1, M[i,j]=0 means the edge ij is labeled 0.\n",
    "        self.t = t  # gonna test whether diam(I(G)) <= t\n",
    "        self.vectors = self.gen_vector(t)  # t * (2**t) matrix, the colomns are all vectors in F_2^t\n",
    "\n",
    "    \n",
    "    def gen_vector(self, kk):\n",
    "        ''' \n",
    "            return a (2**t\n",
    "        '''\n",
    "        if kk == 1:\n",
    "            return self.GF([[0,1]])\n",
    "        else:\n",
    "            L = self.gen_vector(kk-1)\n",
    "            LL = np.vstack((self.GF(np.zeros((1, L.shape[1]), dtype=np.int8)), L))\n",
    "            RR = np.vstack((self.GF(np.ones((1, L.shape[1]), dtype=np.int8)), L))\n",
    "            return np.hstack((LL, RR))\n",
    "    \n",
    "    def check_LR(self, L1, L2, V1, V2):\n",
    "        ''' \n",
    "            input: L1 and L2 are disjoint vertex sets with n_i vertices respectively.\n",
    "                    Vi is a n_i x t matrix, with columns are vectors in F_2^t assigned to vertices in Li.\n",
    "            return: True if the vector assignment of L1 \\cup L2 is valid in G\n",
    "        '''\n",
    "        for i, j in itertools.product(range(L1.shape[0]), range(L2.shape[0])):\n",
    "            if self.M[L1[i]][L2[j]] != -1 and np.dot(V1[:,i], V2[:,j]) != self.M[L1[i]][L2[j]]:\n",
    "                return False\n",
    "        return True\n",
    "\n",
    "    def solve_rec(self, L=None, debug=True):\n",
    "        ''' \n",
    "            input:  L: the ndarray of vertices\n",
    "            return: If len(L) < self.n: # that is G[L] is a proper subgraph\n",
    "                        return a list with each element is a len(L) * t matrix\n",
    "                                whose columns representing len(L) vectors in F_2^t assigned to vertices in L which is valid ( inner product of u and v is label(uv) )\n",
    "\n",
    "                    If len(L) == self.n: # that is, L contains all vertices in G\n",
    "                        When finding a solution, return True and the vector assignment\n",
    "                        If cannot find a solution, return False \n",
    "\n",
    "            Using divide and conquer method\n",
    "        '''\n",
    "        if L is None:\n",
    "            L = np.arange(self.n)\n",
    "        if L.shape[0] == 1:\n",
    "            return [ self.vectors[:, i].reshape((-1,1)) for i in range(self.vectors.shape[1])]\n",
    "        \n",
    "        L1 = L[:int(L.shape[0]/2)]\n",
    "        L2 = L[int(L.shape[0]/2):]\n",
    "\n",
    "        R = []\n",
    "\n",
    "        L1Result = self.solve_rec(L1, debug=debug)\n",
    "        L2Result = self.solve_rec(L2, debug=debug)\n",
    "        for idx1, v1 in enumerate(L1Result):\n",
    "            for idx2, v2 in enumerate(L2Result):\n",
    "                if debug is True:\n",
    "                    print('\\rCalculation {}, {}'.format(((idx1 * len(L2Result)) + idx2) / (len(L1Result) * len(L2Result)),L), end='')\n",
    "                \n",
    "                if self.check_LR(L1, L2, v1, v2):\n",
    "                    if L.shape[0] == self.n:\n",
    "                        print('\\nSucceed')\n",
    "                        return True, np.hstack((v1,v2))\n",
    "                    else:\n",
    "                        R.append(np.hstack((v1,v2)))\n",
    "\n",
    "        if L.shape[0] == self.n:\n",
    "            print('\\nFail')\n",
    "            return False\n",
    "        else:\n",
    "            return R\n",
    "                            \n",
    "        "
   ]
  },
  {
   "cell_type": "code",
   "execution_count": 4,
   "metadata": {},
   "outputs": [],
   "source": [
    "n, M = graph()\n",
    "sol = Solver(n, M, 3)"
   ]
  },
  {
   "cell_type": "code",
   "execution_count": 5,
   "metadata": {},
   "outputs": [
    {
     "name": "stdout",
     "output_type": "stream",
     "text": [
      "Calculation 0.9999945746527777, [ 0  1  2  3  4  5  6  7  8  9 10 11]]]]]\n",
      "Fail\n"
     ]
    },
    {
     "data": {
      "text/plain": [
       "False"
      ]
     },
     "execution_count": 5,
     "metadata": {},
     "output_type": "execute_result"
    }
   ],
   "source": [
    "sol.solve_rec()\n",
    "# cost about 26s"
   ]
  },
  {
   "cell_type": "markdown",
   "metadata": {},
   "source": [
    "The solver failed means $diam(I(G)) > 3$.\n",
    "By the upper bound from treewidth, we have $diam(I(G)) = 4$.\n",
    "That is, we find a outer-planar graph of inversion diameter four. "
   ]
  }
 ],
 "metadata": {
  "kernelspec": {
   "display_name": "base",
   "language": "python",
   "name": "python3"
  },
  "language_info": {
   "codemirror_mode": {
    "name": "ipython",
    "version": 3
   },
   "file_extension": ".py",
   "mimetype": "text/x-python",
   "name": "python",
   "nbconvert_exporter": "python",
   "pygments_lexer": "ipython3",
   "version": "3.11.4"
  }
 },
 "nbformat": 4,
 "nbformat_minor": 2
}
